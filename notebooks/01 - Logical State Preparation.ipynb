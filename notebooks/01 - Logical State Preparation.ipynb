{
 "cells": [
  {
   "cell_type": "markdown",
   "id": "b5b1fb49-9cb4-4c8e-a87c-103f9944bbd3",
   "metadata": {
    "tags": []
   },
   "source": [
    "# Logical State Preparation\n",
    "\n",
    "Example notebook for logical state preparation task."
   ]
  },
  {
   "cell_type": "code",
   "execution_count": null,
   "id": "e6be8e31-a221-4b56-b744-b13d1d33c5fc",
   "metadata": {},
   "outputs": [],
   "source": [
    "import sys\n",
    "sys.path.append(r'../')\n",
    "\n",
    "%load_ext autoreload\n",
    "%autoreload 2\n",
    "%matplotlib inline"
   ]
  },
  {
   "cell_type": "markdown",
   "id": "21b2a79f-b07d-45e1-8984-da5df2733def",
   "metadata": {
    "tags": []
   },
   "source": [
    "## 01 - Simplest Example\n",
    "\n",
    "In the simplest example, you only need to specify the target stabilizers of your logical state.\n",
    "\n",
    "By default, [CX, S, H] gate set and all-to-all qubit connectivity will be used."
   ]
  },
  {
   "cell_type": "code",
   "execution_count": null,
   "id": "010abcd4-6e5c-466c-8aae-c1a35dd78953",
   "metadata": {},
   "outputs": [],
   "source": [
    "from rlftqc.logical_state_preparation import LogicalStatePreparation\n",
    "\n",
    "## Define the target stabilizers\n",
    "## For example, zero logical of 7 qubit Steane code.\n",
    "target = [\"+ZZZZZZZ\",\n",
    "        \"+ZIZIZIZ\",\n",
    "        \"+XIXIXIX\",\n",
    "        \"+IZZIIZZ\",\n",
    "        \"+IXXIIXX\",\n",
    "        \"+IIIZZZZ\",\n",
    "        \"+IIIXXXX\",\n",
    "        ]\n",
    "\n",
    "## Create class\n",
    "lsp = LogicalStatePreparation(target)\n"
   ]
  },
  {
   "cell_type": "markdown",
   "id": "34e6af2e-7121-498f-bbfc-f90619830dd1",
   "metadata": {},
   "source": [
    "We now train the RL agent. This will train 10 agents in parallel. It takes around 100 seconds to train. "
   ]
  },
  {
   "cell_type": "code",
   "execution_count": null,
   "id": "97cf3648-f16d-4016-863b-8abec67d1185",
   "metadata": {},
   "outputs": [],
   "source": [
    "## Train the agent\n",
    "lsp.train()"
   ]
  },
  {
   "cell_type": "markdown",
   "id": "bed84624-e9fd-4558-9ba8-6cb70220613a",
   "metadata": {},
   "source": [
    "After the training is done, we can now the run the agent to get the circuit."
   ]
  },
  {
   "cell_type": "code",
   "execution_count": null,
   "id": "67e00217-a5a4-45f5-bac9-6e3ae09bc284",
   "metadata": {},
   "outputs": [],
   "source": [
    "lsp.run()"
   ]
  },
  {
   "cell_type": "markdown",
   "id": "7339142f-dba6-4f92-be3a-a7e4e6ec619b",
   "metadata": {},
   "source": [
    "We can also customize the folder name to save the circuit."
   ]
  },
  {
   "cell_type": "code",
   "execution_count": null,
   "id": "46bacd6a-3c4d-4785-9117-302ae0b173d4",
   "metadata": {},
   "outputs": [],
   "source": [
    "lsp.run(results_folder_name='results')"
   ]
  },
  {
   "cell_type": "markdown",
   "id": "61b527a5-7b1e-40c2-b170-c0c4326d3c56",
   "metadata": {},
   "source": [
    "We can also log the result to check the training convergence."
   ]
  },
  {
   "cell_type": "code",
   "execution_count": null,
   "id": "2a64686c-aad1-48c7-8ff6-1eb326bb3716",
   "metadata": {},
   "outputs": [],
   "source": [
    "## Log the result if needed\n",
    "lsp.log()"
   ]
  },
  {
   "cell_type": "markdown",
   "id": "db5d8284-cc41-4a56-9d4c-3dd0adff84c8",
   "metadata": {},
   "source": [
    "We can also customize the folder name to log the experiment."
   ]
  },
  {
   "cell_type": "code",
   "execution_count": null,
   "id": "b5c905ab-e58d-46d6-8533-78c0c5a3f873",
   "metadata": {},
   "outputs": [],
   "source": [
    "## One can also customize the folder name to save log\n",
    "lsp.log(results_folder_name='logs')"
   ]
  },
  {
   "cell_type": "markdown",
   "id": "26ee4805-ac59-497e-8893-5551c0991f2e",
   "metadata": {
    "tags": []
   },
   "source": [
    "## 02 - Different Gate Set and Qubit Connectivity\n",
    "### Specify Manually\n",
    "\n",
    "\n",
    "In this part, we specify a different gate set and qubit connectivity.\n",
    "We try with IBM native gate set: [CX, S, SQRT_X, and X] and next-nearest neighbors qubit connectivity."
   ]
  },
  {
   "cell_type": "code",
   "execution_count": null,
   "id": "63b30d72-d7c7-4f5b-ac28-8ce70f2cf86d",
   "metadata": {},
   "outputs": [],
   "source": [
    "from rlftqc.logical_state_preparation import LogicalStatePreparation\n",
    "from rlftqc.simulators.clifford_gates import CliffordGates\n",
    "\n",
    "## Define the target stabilizers\n",
    "## For example, zero logical of 5 qubit perfect code.\n",
    "target = [\n",
    "        \"+ZZZZZ\",\n",
    "        \"+IXZZX\",\n",
    "        \"+XZZXI\",\n",
    "        \"+ZZXIX\",\n",
    "        \"+ZXIXZ\"]\n",
    "\n",
    "## Specify gates\n",
    "cliff_gates = CliffordGates(5)\n",
    "gates = [cliff_gates.s, cliff_gates.cx, cliff_gates.sqrt_x, cliff_gates.x]\n",
    "\n",
    "## Create next-nearest neighbors connectivity graph\n",
    "graph = []\n",
    "for ii in range(4):\n",
    "    graph.append((ii, ii+1))\n",
    "    graph.append((ii+1, ii))\n",
    "print(graph)\n",
    "    \n",
    "## Create class\n",
    "lsp = LogicalStatePreparation(target, gates=gates, graph=graph)"
   ]
  },
  {
   "cell_type": "markdown",
   "id": "1574325c-644d-4636-a319-44daac85a641",
   "metadata": {},
   "source": [
    "We now train 10 agents in parallel. It takes around 90 seconds to train. "
   ]
  },
  {
   "cell_type": "code",
   "execution_count": null,
   "id": "35267c81-8167-4771-a458-58c891331ff8",
   "metadata": {},
   "outputs": [],
   "source": [
    "lsp.train()"
   ]
  },
  {
   "cell_type": "markdown",
   "id": "c809ca77-a608-4b37-bd08-cd8a48e2b51e",
   "metadata": {},
   "source": [
    "Run the agent and get the prepared circuit"
   ]
  },
  {
   "cell_type": "code",
   "execution_count": null,
   "id": "ec17c2ec-b288-4e90-84bb-9cca5c9d0f71",
   "metadata": {},
   "outputs": [],
   "source": [
    "lsp.run()"
   ]
  },
  {
   "cell_type": "markdown",
   "id": "dcd0b753-64c0-4031-abf9-e8cabc0dbadd",
   "metadata": {},
   "source": [
    "We can also log the result to check the training convergence."
   ]
  },
  {
   "cell_type": "code",
   "execution_count": null,
   "id": "0e5110f6-ff4f-4f48-a87a-596ef3f6b90b",
   "metadata": {},
   "outputs": [],
   "source": [
    "lsp.log()"
   ]
  },
  {
   "cell_type": "markdown",
   "id": "09acb294-8d3f-4828-b58c-ade9dae3a27a",
   "metadata": {
    "tags": []
   },
   "source": [
    "### Use the `Devices` class"
   ]
  },
  {
   "cell_type": "markdown",
   "id": "28d1ead8-d5f7-4b42-b309-ea8819018a3b",
   "metadata": {
    "tags": []
   },
   "source": [
    "You can also use the `Devices` class available for IBM, IonTrap, and Sycamore devices.\n",
    "\n",
    "\n",
    "#### IBM \n",
    "Here, for example, we use the IBMQ Jakarta device and visualize the connectivity "
   ]
  },
  {
   "cell_type": "code",
   "execution_count": null,
   "id": "a09bf02a-652e-42c3-a614-793d9528a59b",
   "metadata": {},
   "outputs": [],
   "source": [
    "from rlftqc.devices import IBM\n",
    "\n",
    "device = IBM('jakarta')\n",
    "\n",
    "device.visualize()"
   ]
  },
  {
   "cell_type": "markdown",
   "id": "86caf950-74b9-4b8e-9c21-3ebe4480b8ab",
   "metadata": {},
   "source": [
    "Since we want to synthesize a 5 qubit code, we can take the subset of the device."
   ]
  },
  {
   "cell_type": "code",
   "execution_count": null,
   "id": "e89520db-f14d-47e3-8201-ee39cf52c75f",
   "metadata": {},
   "outputs": [],
   "source": [
    "graph = device.get_connectivity([0,1,2,3,5])\n",
    "device.visualize()"
   ]
  },
  {
   "cell_type": "markdown",
   "id": "0d45ee73-ca63-4d02-b844-b60893f418de",
   "metadata": {},
   "source": [
    "We can then get the gateset for the IBM device."
   ]
  },
  {
   "cell_type": "code",
   "execution_count": null,
   "id": "657959f9-2e80-4d97-ae47-1ea9498fb2c4",
   "metadata": {},
   "outputs": [],
   "source": [
    "gates = device.get_gateset()\n",
    "print([gate.__name__ for gate in gates])"
   ]
  },
  {
   "cell_type": "markdown",
   "id": "ae727c7a-86a3-4ca1-99a9-18253f019a9e",
   "metadata": {},
   "source": [
    "We can now create the object and train the agent."
   ]
  },
  {
   "cell_type": "code",
   "execution_count": null,
   "id": "e095d791-ba92-49cd-b6be-d7867101d0d6",
   "metadata": {},
   "outputs": [],
   "source": [
    "from rlftqc.logical_state_preparation import LogicalStatePreparation\n",
    "\n",
    "## Define the target stabilizers\n",
    "## For example, zero logical of 5 qubit perfect code.\n",
    "target = [\n",
    "        \"+ZZZZZ\",\n",
    "        \"+IXZZX\",\n",
    "        \"+XZZXI\",\n",
    "        \"+ZZXIX\",\n",
    "        \"+ZXIXZ\"]\n",
    "\n",
    "## Create class\n",
    "lsp = LogicalStatePreparation(target, gates=gates, graph=graph)"
   ]
  },
  {
   "cell_type": "code",
   "execution_count": null,
   "id": "6398bde6-e8c0-4c6b-bde5-71e21438e926",
   "metadata": {},
   "outputs": [],
   "source": [
    "lsp.train()"
   ]
  },
  {
   "cell_type": "markdown",
   "id": "b42a0f0a-7674-4524-b90c-f53b2c9e19df",
   "metadata": {},
   "source": [
    "Run the agent and get the prepared circuit"
   ]
  },
  {
   "cell_type": "code",
   "execution_count": null,
   "id": "678d6dc9-0182-4dbb-b9eb-9af2af4e8016",
   "metadata": {},
   "outputs": [],
   "source": [
    "lsp.run()"
   ]
  },
  {
   "cell_type": "markdown",
   "id": "f1b625d8-d772-4d36-be6a-e83af222e12f",
   "metadata": {},
   "source": [
    "We can also log the result to check the training convergence."
   ]
  },
  {
   "cell_type": "code",
   "execution_count": null,
   "id": "70334a89-5de8-43db-9718-828c3d3f8afd",
   "metadata": {},
   "outputs": [],
   "source": [
    "lsp.log()"
   ]
  },
  {
   "cell_type": "markdown",
   "id": "0d60116a-44dd-485b-8f31-61e9c41f83fe",
   "metadata": {},
   "source": [
    "#### Sycamore \n",
    "Here, for example, we use the Sycamore device and visualize the connectivity."
   ]
  },
  {
   "cell_type": "code",
   "execution_count": null,
   "id": "bc5c9918-81fe-4616-b28b-b9bbed0e44d7",
   "metadata": {},
   "outputs": [],
   "source": [
    "from rlftqc.devices import Sycamore\n",
    "\n",
    "device = Sycamore()\n",
    "\n",
    "device.visualize()"
   ]
  },
  {
   "cell_type": "markdown",
   "id": "f4e86ae0-9d6b-4554-9215-6fcd0deebf86",
   "metadata": {},
   "source": [
    "Since we want to synthesize a 5 qubit code, we can take the subset of the device. Also, Sycamore has CZ as two-qubit native gate set, which is symmetric. We then can set directed to False so we do not apply the same gate twice."
   ]
  },
  {
   "cell_type": "code",
   "execution_count": null,
   "id": "195ca053-55b5-48cf-b7a7-c024a25f020f",
   "metadata": {},
   "outputs": [],
   "source": [
    "graph = device.get_connectivity([0,1,2,3,4], directed=False)\n",
    "device.visualize()"
   ]
  },
  {
   "cell_type": "code",
   "execution_count": null,
   "id": "ba679e36-6e12-480a-9878-12d645268daa",
   "metadata": {},
   "outputs": [],
   "source": [
    "gates = device.get_gateset()\n",
    "print([gate.__name__ for gate in gates])"
   ]
  },
  {
   "cell_type": "markdown",
   "id": "6a1efc5a-2782-4da2-a88e-08d3c767e01e",
   "metadata": {},
   "source": [
    "We can now create the object and train the agent."
   ]
  },
  {
   "cell_type": "code",
   "execution_count": null,
   "id": "632b33f3-8a47-457d-b8cf-039f047d97a9",
   "metadata": {},
   "outputs": [],
   "source": [
    "from rlftqc.logical_state_preparation import LogicalStatePreparation\n",
    "\n",
    "## Define the target stabilizers\n",
    "## For example, zero logical of 5 qubit perfect code.\n",
    "target = [\n",
    "        \"+ZZZZZ\",\n",
    "        \"+IXZZX\",\n",
    "        \"+XZZXI\",\n",
    "        \"+ZZXIX\",\n",
    "        \"+ZXIXZ\"]\n",
    "\n",
    "## Create class\n",
    "lsp = LogicalStatePreparation(target, gates=gates, graph=graph)"
   ]
  },
  {
   "cell_type": "code",
   "execution_count": null,
   "id": "fe99dbd2-685d-499f-90db-a8589f8047a7",
   "metadata": {},
   "outputs": [],
   "source": [
    "lsp.train()"
   ]
  },
  {
   "cell_type": "markdown",
   "id": "b8c32c85-7ef1-4d93-a318-89a86c2bc290",
   "metadata": {},
   "source": [
    "Run the agent and get the prepared circuit"
   ]
  },
  {
   "cell_type": "code",
   "execution_count": null,
   "id": "375f63a8-4fb4-4368-b6ed-956267ea00f9",
   "metadata": {},
   "outputs": [],
   "source": [
    "lsp.run()"
   ]
  },
  {
   "cell_type": "markdown",
   "id": "b85adc37-5748-4083-98d2-ded027c0264f",
   "metadata": {},
   "source": [
    "We can also log the result to check the training convergence."
   ]
  },
  {
   "cell_type": "code",
   "execution_count": null,
   "id": "4055f3ec-26b0-491b-8e2a-2e4294611bac",
   "metadata": {},
   "outputs": [],
   "source": [
    "lsp.log()"
   ]
  },
  {
   "cell_type": "markdown",
   "id": "5e701304-a719-4fc1-895f-6fc349d5666b",
   "metadata": {},
   "source": [
    "## 03 - Advanced Example \n",
    "\n",
    "This part shows how to customize the training configuration."
   ]
  },
  {
   "cell_type": "code",
   "execution_count": null,
   "id": "66d471ba-dbd5-4ea2-abf7-94d806f50b09",
   "metadata": {},
   "outputs": [],
   "source": [
    "from rlftqc.logical_state_preparation import LogicalStatePreparation\n",
    "\n",
    "## Define the target stabilizers\n",
    "## For example, zero logical of 7 qubit Steane code.\n",
    "target = [\"ZZZZZZZ\",\n",
    "        \"ZIZIZIZ\",\n",
    "        \"XIXIXIX\",\n",
    "        \"IZZIIZZ\",\n",
    "        \"IXXIIXX\",\n",
    "        \"IIIZZZZ\",\n",
    "        \"IIIXXXX\",\n",
    "        ]\n",
    "\n",
    "## Create class\n",
    "lsp = LogicalStatePreparation(target)\n"
   ]
  },
  {
   "cell_type": "markdown",
   "id": "c724948a-6fdf-4177-82b5-3ad7de6ac3b1",
   "metadata": {},
   "source": [
    "Change the number of possible gates for training with the max_steps."
   ]
  },
  {
   "cell_type": "code",
   "execution_count": null,
   "id": "44286fcf-cd66-4483-abd5-91553fa82e44",
   "metadata": {},
   "outputs": [],
   "source": [
    "lsp = LogicalStatePreparation(target, max_steps = 100)"
   ]
  },
  {
   "cell_type": "markdown",
   "id": "31a9429b-c791-4019-86cc-2693b5808c82",
   "metadata": {},
   "source": [
    "Change seed for training."
   ]
  },
  {
   "cell_type": "code",
   "execution_count": null,
   "id": "ef558728-d15f-4796-9e44-6895888630ba",
   "metadata": {},
   "outputs": [],
   "source": [
    "lsp = LogicalStatePreparation(target, seed = 123)"
   ]
  },
  {
   "cell_type": "markdown",
   "id": "538841d6-f720-4a13-bec2-acf25205f00c",
   "metadata": {},
   "source": [
    "For more advanced training configurations, we can change the training config."
   ]
  },
  {
   "cell_type": "code",
   "execution_count": null,
   "id": "760f5a6d-789a-4b91-ba13-91d9be0365ce",
   "metadata": {},
   "outputs": [],
   "source": [
    "lsp.training_config"
   ]
  },
  {
   "cell_type": "code",
   "execution_count": null,
   "id": "314535ff-127e-4330-9704-c2896f71115b",
   "metadata": {},
   "outputs": [],
   "source": [
    "# NUM_AGENTS change the number of parallel agents to train (default: 10).\n",
    "lsp.training_config['NUM_AGENTS'] = 5\n",
    "\n",
    "# TOTAL_TIMESTEPS change the number of total timesteps for training (default: 5e5), increase this for longer training.\n",
    "lsp.training_config['TOTAL_TIMESTEPS'] = 1e7\n"
   ]
  }
 ],
 "metadata": {
  "kernelspec": {
   "display_name": "Python 3",
   "language": "python",
   "name": "python3"
  },
  "language_info": {
   "codemirror_mode": {
    "name": "ipython",
    "version": 3
   },
   "file_extension": ".py",
   "mimetype": "text/x-python",
   "name": "python",
   "nbconvert_exporter": "python",
   "pygments_lexer": "ipython3",
   "version": "3.9.7"
  }
 },
 "nbformat": 4,
 "nbformat_minor": 5
}
