{
 "cells": [
  {
   "cell_type": "markdown",
   "id": "b5b1fb49-9cb4-4c8e-a87c-103f9944bbd3",
   "metadata": {},
   "source": [
    "# Integrated Fault-Tolerant Logical State Preparation\n",
    "\n",
    "Example notebook for integrated fault-tolerant logical state preparation task."
   ]
  },
  {
   "cell_type": "code",
   "execution_count": null,
   "id": "e6be8e31-a221-4b56-b744-b13d1d33c5fc",
   "metadata": {},
   "outputs": [],
   "source": [
    "import sys\n",
    "sys.path.append(r'../')\n",
    "\n",
    "%load_ext autoreload\n",
    "%autoreload 2\n",
    "%matplotlib inline"
   ]
  },
  {
   "cell_type": "markdown",
   "id": "21b2a79f-b07d-45e1-8984-da5df2733def",
   "metadata": {
    "tags": []
   },
   "source": [
    "## 01 - Simplest Example\n",
    "\n",
    "In the simplest example, you only need to specify the target stabilizers of your logical state.\n",
    "\n",
    "By default, all-to-all qubit connectivity will be used."
   ]
  },
  {
   "cell_type": "code",
   "execution_count": null,
   "id": "010abcd4-6e5c-466c-8aae-c1a35dd78953",
   "metadata": {},
   "outputs": [],
   "source": [
    "from rlftqc.ft_logical_state_preparation import FTLogicalStatePreparation\n",
    "\n",
    "## Define the target stabilizers\n",
    "## For example, zero logical of 7 qubit Steane code.\n",
    "target = [\"+ZZZZZZZ\",\n",
    "        \"+ZIZIZIZ\",\n",
    "        \"+XIXIXIX\",\n",
    "        \"+IZZIIZZ\",\n",
    "        \"+IXXIIXX\",\n",
    "        \"+IIIZZZZ\",\n",
    "        \"+IIIXXXX\",\n",
    "        ]\n",
    "\n",
    "## Create class\n",
    "ftlsp = FTLogicalStatePreparation(target, ignore_z_errors=True)"
   ]
  },
  {
   "cell_type": "markdown",
   "id": "34e6af2e-7121-498f-bbfc-f90619830dd1",
   "metadata": {},
   "source": [
    "We now train the agent. It takes around 300 seconds to train. "
   ]
  },
  {
   "cell_type": "code",
   "execution_count": null,
   "id": "97cf3648-f16d-4016-863b-8abec67d1185",
   "metadata": {},
   "outputs": [],
   "source": [
    "## Train the agent\n",
    "ftlsp.train()"
   ]
  },
  {
   "cell_type": "markdown",
   "id": "bed84624-e9fd-4558-9ba8-6cb70220613a",
   "metadata": {},
   "source": [
    "After the training is done, we can now the run the agent to get the circuit."
   ]
  },
  {
   "cell_type": "code",
   "execution_count": null,
   "id": "67e00217-a5a4-45f5-bac9-6e3ae09bc284",
   "metadata": {},
   "outputs": [],
   "source": [
    "ftlsp.run()"
   ]
  },
  {
   "cell_type": "markdown",
   "id": "7339142f-dba6-4f92-be3a-a7e4e6ec619b",
   "metadata": {},
   "source": [
    "We can also customize the folder name to save the circuit."
   ]
  },
  {
   "cell_type": "code",
   "execution_count": null,
   "id": "46bacd6a-3c4d-4785-9117-302ae0b173d4",
   "metadata": {},
   "outputs": [],
   "source": [
    "ftlsp.run(results_folder_name='results')"
   ]
  },
  {
   "cell_type": "markdown",
   "id": "61b527a5-7b1e-40c2-b170-c0c4326d3c56",
   "metadata": {},
   "source": [
    "We can also log the result to check the training convergence."
   ]
  },
  {
   "cell_type": "code",
   "execution_count": null,
   "id": "2a64686c-aad1-48c7-8ff6-1eb326bb3716",
   "metadata": {
    "tags": []
   },
   "outputs": [],
   "source": [
    "## Log the result if needed\n",
    "ftlsp.log()"
   ]
  },
  {
   "cell_type": "markdown",
   "id": "db5d8284-cc41-4a56-9d4c-3dd0adff84c8",
   "metadata": {},
   "source": [
    "We can also customize the folder name to log the experiment."
   ]
  },
  {
   "cell_type": "code",
   "execution_count": null,
   "id": "b5c905ab-e58d-46d6-8533-78c0c5a3f873",
   "metadata": {},
   "outputs": [],
   "source": [
    "## One can also customize the folder name to save log\n",
    "ftlsp.log(results_folder_name='logs')"
   ]
  }
 ],
 "metadata": {
  "kernelspec": {
   "display_name": "rljax",
   "language": "python",
   "name": "rljax"
  },
  "language_info": {
   "codemirror_mode": {
    "name": "ipython",
    "version": 3
   },
   "file_extension": ".py",
   "mimetype": "text/x-python",
   "name": "python",
   "nbconvert_exporter": "python",
   "pygments_lexer": "ipython3",
   "version": "3.9.17"
  }
 },
 "nbformat": 4,
 "nbformat_minor": 5
}
