{
 "cells": [
  {
   "cell_type": "markdown",
   "id": "b5b1fb49-9cb4-4c8e-a87c-103f9944bbd3",
   "metadata": {},
   "source": [
    "# Verification Circuit Synthesis\n",
    "\n",
    "Example notebook for verification circuit synthesis task."
   ]
  },
  {
   "cell_type": "code",
   "execution_count": null,
   "id": "e6be8e31-a221-4b56-b744-b13d1d33c5fc",
   "metadata": {},
   "outputs": [],
   "source": [
    "import sys\n",
    "sys.path.append(r'../')\n",
    "\n",
    "%load_ext autoreload\n",
    "%autoreload 2\n",
    "%matplotlib inline"
   ]
  },
  {
   "cell_type": "markdown",
   "id": "21b2a79f-b07d-45e1-8984-da5df2733def",
   "metadata": {
    "tags": []
   },
   "source": [
    "## 01 - Simplest Example\n",
    "\n",
    "In the simplest example, you only need to give the encoding circuit. It supports `stim.Circuit` or `qiskit.QuantumCircuit` object\n",
    "\n",
    "By default, the gate set will be [CX, CZ, H] and use all-to-all qubit connectivity.\n",
    "\n",
    "We first show an example with `stim.Circuit`."
   ]
  },
  {
   "cell_type": "code",
   "execution_count": null,
   "id": "010abcd4-6e5c-466c-8aae-c1a35dd78953",
   "metadata": {},
   "outputs": [],
   "source": [
    "import stim\n",
    "from rlftqc.verification_circuit_synthesis import VerificationCircuitSynthesis\n",
    "\n",
    "## Define the encoding circuit\n",
    "## For example, circuit that prepares zero logical of 7 qubit Steane code.\n",
    "circ = stim.Circuit(\"\"\"\n",
    "H 0 1 3\n",
    "CX 0 6 1 5 0 4 3 4 3 5 5 6 0 2 1 2\n",
    "\"\"\")\n",
    "\n",
    "## Create class and we can ignore Z error since we are preparing zero logical of a CSS code.\n",
    "vcs = VerificationCircuitSynthesis(circ, ignore_z_errors = True)\n"
   ]
  },
  {
   "cell_type": "code",
   "execution_count": null,
   "id": "97cf3648-f16d-4016-863b-8abec67d1185",
   "metadata": {},
   "outputs": [],
   "source": [
    "## Train the agent\n",
    "vcs.train()"
   ]
  },
  {
   "cell_type": "code",
   "execution_count": null,
   "id": "67e00217-a5a4-45f5-bac9-6e3ae09bc284",
   "metadata": {},
   "outputs": [],
   "source": [
    "## Run the agent and get the prepared circuit\n",
    "vcs.run()"
   ]
  },
  {
   "cell_type": "code",
   "execution_count": null,
   "id": "46bacd6a-3c4d-4785-9117-302ae0b173d4",
   "metadata": {},
   "outputs": [],
   "source": [
    "## One can also curstomize the folder name to save the circuits\n",
    "vcs.run(results_folder_name='results')"
   ]
  },
  {
   "cell_type": "code",
   "execution_count": null,
   "id": "2a64686c-aad1-48c7-8ff6-1eb326bb3716",
   "metadata": {},
   "outputs": [],
   "source": [
    "## Log the result if needed\n",
    "vcs.log()"
   ]
  },
  {
   "cell_type": "code",
   "execution_count": null,
   "id": "b5c905ab-e58d-46d6-8533-78c0c5a3f873",
   "metadata": {},
   "outputs": [],
   "source": [
    "## One can also customize the folder name to save log\n",
    "vcs.log(results_folder_name='logs')"
   ]
  },
  {
   "cell_type": "markdown",
   "id": "678056d9-9244-4558-a794-cd0d41160cca",
   "metadata": {},
   "source": [
    "One could also do the same with `qiskit.QuantumCircuit`"
   ]
  },
  {
   "cell_type": "code",
   "execution_count": null,
   "id": "120dcfad-b133-4d28-9931-cb59e5bae9ee",
   "metadata": {},
   "outputs": [],
   "source": [
    "from qiskit import QuantumCircuit\n",
    "from rlftqc.verification_circuit_synthesis import VerificationCircuitSynthesis\n",
    "\n",
    "## Define the encoding circuit\n",
    "## For example, circuit that prepares zero logical of 7 qubit Steane code.\n",
    "circ = QuantumCircuit(7)\n",
    "circ.h(0)\n",
    "circ.h(1)\n",
    "circ.h(3)\n",
    "circ.cx(0,6)\n",
    "circ.cx(1,5)\n",
    "circ.cx(0,4)\n",
    "circ.cx(3,4)\n",
    "circ.cx(3,5)\n",
    "circ.cx(5,6)\n",
    "circ.cx(0,2)\n",
    "circ.cx(1,2)\n",
    "\n",
    "## Create class and we can ignore Z error since we are preparing zero logical of a CSS code.\n",
    "vcs = VerificationCircuitSynthesis(circ, ignore_z_errors = True)\n",
    "\n",
    "## Train the agent\n",
    "vcs.train()\n",
    "\n",
    "## Run the agent and get the prepared circuit\n",
    "vcs.run()"
   ]
  },
  {
   "cell_type": "markdown",
   "id": "042a7497-733b-4da2-9e70-e8ed5eb7e90c",
   "metadata": {},
   "source": [
    "## 02 - Non-CSS code Example\n",
    "\n",
    "We showed an example of synthesizing verification circuit for non-CSS code particularly the $|-\\rangle_L$ of the $[[5,1,3]]$ perfect code."
   ]
  },
  {
   "cell_type": "code",
   "execution_count": null,
   "id": "a9f43c39-1816-475f-8179-4670d39f4e08",
   "metadata": {},
   "outputs": [],
   "source": [
    "import stim\n",
    "from rlftqc.verification_circuit_synthesis import VerificationCircuitSynthesis\n",
    "from rlftqc.simulators.clifford_gates import CliffordGates\n",
    "\n",
    "## Define the encoding circuit\n",
    "## For example, circuit that prepares minus logical of 5 qubit perfect code.\n",
    "circ = stim.Circuit(\"\"\"\n",
    "H 0 1 2 3 4\n",
    "CZ 0 1 2 3 1 2 3 4 0 4\n",
    "\"\"\")"
   ]
  },
  {
   "cell_type": "markdown",
   "id": "618e213a-f57d-4c94-9efc-80f02e8843fd",
   "metadata": {},
   "source": [
    "We will use two flag qubits.\n",
    "\n",
    "Here, we will also show how to introduce inductive biases to help agent converge faster.\n",
    "\n",
    "For example, we know that we need to measure in the X basis in the ancilla. Therefore, we can specify it to the VCS task. We also can specify the agent to use only CX and CZ gates. Furthermore, no gates between ancilla is needed."
   ]
  },
  {
   "cell_type": "code",
   "execution_count": null,
   "id": "d7699989-e3d4-4fa2-943e-281c9d7394cc",
   "metadata": {},
   "outputs": [],
   "source": [
    "\n",
    "cliff_gates = CliffordGates(7)\n",
    "gates = [cliff_gates.cx, cliff_gates.cz]\n",
    "plus_ancilla_position = [5,6]\n",
    "\n",
    "vcs = VerificationCircuitSynthesis(circ, num_ancillas = 2, gates=gates, plus_ancilla_position = plus_ancilla_position, gates_between_ancilla = False)\n",
    "## Need to change training config such that the agent explore more.\n",
    "vcs.training_config[\"TOTAL_TIMESTEPS\"] = 1e6\n",
    "vcs.training_config[\"LR\"] = 5e-4\n",
    "vcs.training_config[\"ENT_COEF\"] = 0.1"
   ]
  },
  {
   "cell_type": "code",
   "execution_count": null,
   "id": "d5858073-951a-4068-84ed-054c7e058edf",
   "metadata": {},
   "outputs": [],
   "source": [
    "## Train the agent\n",
    "vcs.train()"
   ]
  },
  {
   "cell_type": "code",
   "execution_count": null,
   "id": "cb7c42d0-20da-440e-93ae-4ff851b7b0b8",
   "metadata": {},
   "outputs": [],
   "source": [
    "## Run the agent and get the prepared circuit\n",
    "vcs.run()"
   ]
  },
  {
   "cell_type": "code",
   "execution_count": null,
   "id": "68c1329b-973d-4764-a4d2-4c1424f35354",
   "metadata": {},
   "outputs": [],
   "source": [
    "vcs.log()"
   ]
  },
  {
   "cell_type": "markdown",
   "id": "5e701304-a719-4fc1-895f-6fc349d5666b",
   "metadata": {},
   "source": [
    "## 03 - Advanced Example \n",
    "\n",
    "This part shows how to customize the training configuration."
   ]
  },
  {
   "cell_type": "code",
   "execution_count": null,
   "id": "66d471ba-dbd5-4ea2-abf7-94d806f50b09",
   "metadata": {},
   "outputs": [],
   "source": [
    "from rlftqc.logical_state_preparation import LogicalStatePreparation\n",
    "\n",
    "## Define the target stabilizers\n",
    "## For example, zero logical of 7 qubit Steane code.\n",
    "target = [\"ZZZZZZZ\",\n",
    "        \"ZIZIZIZ\",\n",
    "        \"XIXIXIX\",\n",
    "        \"IZZIIZZ\",\n",
    "        \"IXXIIXX\",\n",
    "        \"IIIZZZZ\",\n",
    "        \"IIIXXXX\",\n",
    "        ]\n",
    "\n",
    "## Create class\n",
    "lsp = LogicalStatePreparation(target)\n"
   ]
  },
  {
   "cell_type": "markdown",
   "id": "c724948a-6fdf-4177-82b5-3ad7de6ac3b1",
   "metadata": {},
   "source": [
    "Change the number of possible gates for training with the max_steps."
   ]
  },
  {
   "cell_type": "code",
   "execution_count": null,
   "id": "44286fcf-cd66-4483-abd5-91553fa82e44",
   "metadata": {},
   "outputs": [],
   "source": [
    "lsp = LogicalStatePreparation(target, max_steps = 100)"
   ]
  },
  {
   "cell_type": "markdown",
   "id": "31a9429b-c791-4019-86cc-2693b5808c82",
   "metadata": {},
   "source": [
    "Change seed for training."
   ]
  },
  {
   "cell_type": "code",
   "execution_count": null,
   "id": "ef558728-d15f-4796-9e44-6895888630ba",
   "metadata": {},
   "outputs": [],
   "source": [
    "lsp = LogicalStatePreparation(target, seed = 123)"
   ]
  },
  {
   "cell_type": "markdown",
   "id": "538841d6-f720-4a13-bec2-acf25205f00c",
   "metadata": {},
   "source": [
    "For more advanced training configurations, we can change the training config"
   ]
  },
  {
   "cell_type": "code",
   "execution_count": null,
   "id": "760f5a6d-789a-4b91-ba13-91d9be0365ce",
   "metadata": {},
   "outputs": [],
   "source": [
    "lsp.training_config"
   ]
  },
  {
   "cell_type": "code",
   "execution_count": null,
   "id": "314535ff-127e-4330-9704-c2896f71115b",
   "metadata": {},
   "outputs": [],
   "source": [
    "# NUM_AGENTS change the number of parallel agents to train (default: 1).\n",
    "lsp.training_config['NUM_AGENTS'] = 5\n",
    "\n",
    "# TOTAL_TIMESTEPS change the number of total timesteps for training (default: 5e5), increase this for longer training.\n",
    "lsp.training_config['TOTAL_TIMESTEPS'] = 1e7\n"
   ]
  }
 ],
 "metadata": {
  "kernelspec": {
   "display_name": "rljax",
   "language": "python",
   "name": "rljax"
  },
  "language_info": {
   "codemirror_mode": {
    "name": "ipython",
    "version": 3
   },
   "file_extension": ".py",
   "mimetype": "text/x-python",
   "name": "python",
   "nbconvert_exporter": "python",
   "pygments_lexer": "ipython3",
   "version": "3.9.17"
  }
 },
 "nbformat": 4,
 "nbformat_minor": 5
}
